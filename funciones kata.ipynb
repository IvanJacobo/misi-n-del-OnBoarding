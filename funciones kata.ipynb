{
 "cells": [
  {
   "cell_type": "markdown",
   "metadata": {},
   "source": [
    "# Ejercicio: Uso de funciones en Python\n",
    "## Ejercicio 1: Trabajar con argumentos en funciones"
   ]
  },
  {
   "cell_type": "code",
   "execution_count": 3,
   "metadata": {},
   "outputs": [],
   "source": [
    "def tanques(tanque1, tanque2, tanque3):\n",
    "    total = (tanque1 + tanque2 + tanque3)/3\n",
    "    return f\"\"\" reprote de combustible\n",
    "    combustible Total: {total}%\n",
    "    tanque1: {tanque1}%\n",
    "    tanque2: {tanque2}%\n",
    "    tanque3: {tanque3}%\n",
    "    \"\"\""
   ]
  },
  {
   "cell_type": "code",
   "execution_count": 4,
   "metadata": {},
   "outputs": [
    {
     "name": "stdout",
     "output_type": "stream",
     "text": [
      " reprote de combustible\n",
      "    combustible Total: 71.66666666666667%\n",
      "    tanque1: 90%\n",
      "    tanque2: 75%\n",
      "    tanque3: 50%\n",
      "    \n"
     ]
    }
   ],
   "source": [
    "print(tanques(90, 75, 50))"
   ]
  },
  {
   "cell_type": "code",
   "execution_count": 11,
   "metadata": {},
   "outputs": [],
   "source": [
    "def promedio(valores):\n",
    "    total = sum(valores)\n",
    "    numeroDeValores = len(valores)\n",
    "    return total / numeroDeValores "
   ]
  },
  {
   "cell_type": "code",
   "execution_count": 19,
   "metadata": {},
   "outputs": [
    {
     "data": {
      "text/plain": [
       "71.66666666666667"
      ]
     },
     "execution_count": 19,
     "metadata": {},
     "output_type": "execute_result"
    }
   ],
   "source": [
    "promedio([90, 75, 50])"
   ]
  },
  {
   "cell_type": "code",
   "execution_count": 22,
   "metadata": {},
   "outputs": [
    {
     "name": "stdout",
     "output_type": "stream",
     "text": [
      " reprote de combustible\n",
      "    total = 215.0 %\n",
      "    tanque1: 90%\n",
      "    tanque2: 75%\n",
      "    tanque3: 50%\n",
      "    \n"
     ]
    }
   ],
   "source": [
    "def tanques(tanque1, tanque2, tanque3):\n",
    "    return f\"\"\" reprote de combustible\n",
    "    total = {promedio([tanque1 + tanque2 + tanque3])} %\n",
    "    tanque1: {tanque1}%\n",
    "    tanque2: {tanque2}%\n",
    "    tanque3: {tanque3}%\n",
    "    \"\"\"\n",
    "\n",
    "print(tanques(90,75,50))"
   ]
  },
  {
   "cell_type": "markdown",
   "metadata": {},
   "source": [
    "# Ejercicio 2: Trabajo con argumentos de palabra clave\n",
    "## Ejercicio : Trabajar con argumentos de palabras clave en funciones"
   ]
  },
  {
   "cell_type": "code",
   "execution_count": 32,
   "metadata": {},
   "outputs": [
    {
     "name": "stdout",
     "output_type": "stream",
     "text": [
      " informe de la mision \n",
      "    Hora de prelanzamiento: 14\n",
      "    tiempo de vuelo: 60 minutos\n",
      "    Destino: Luna\n",
      "    tanque esterno: 50000 litros\n",
      "    tanque interno: 80000 litros \n",
      "    \n"
     ]
    }
   ],
   "source": [
    "def cohete(HoraDePrelanzamiento, tiempoDeVuelo, Destino, tanqueExterno ,tanqueInterno):\n",
    "    return f\"\"\" informe de la mision \n",
    "    Hora de prelanzamiento: {HoraDePrelanzamiento}\n",
    "    tiempo de vuelo: {tiempoDeVuelo} minutos\n",
    "    Destino: {Destino}\n",
    "    tanque esterno: {tanqueExterno} litros\n",
    "    tanque interno: {tanqueInterno} litros \n",
    "    \"\"\"\n",
    "\n",
    "print(cohete(14, 60, \"Luna\", 50000, 80000))"
   ]
  },
  {
   "cell_type": "code",
   "execution_count": 34,
   "metadata": {},
   "outputs": [
    {
     "name": "stdout",
     "output_type": "stream",
     "text": [
      "\n",
      "    Destino a Luna\n",
      "    tiempo de viaje: 76 minutes\n",
      "    combustible total: 50000\n",
      "    \n"
     ]
    }
   ],
   "source": [
    "def cohete(destino, *minutes, **fuel_reservoirs):\n",
    "    return f\"\"\"\n",
    "    Destino a {destino}\n",
    "    tiempo de viaje: {sum(minutes)} minutes\n",
    "    combustible total: {sum(fuel_reservoirs.values())}\n",
    "    \"\"\"\n",
    "\n",
    "print(cohete(\"Luna\", 10, 15, 51, interno=30000, externo=20000))"
   ]
  },
  {
   "cell_type": "code",
   "execution_count": 35,
   "metadata": {},
   "outputs": [
    {
     "name": "stdout",
     "output_type": "stream",
     "text": [
      "\n",
      "    Destino a Luna\n",
      "    tiempo de viaje: 76 minutes\n",
      "    combustible total: 50000\n",
      "    interno tanque --> 30000 litros\n",
      "externo tanque --> 20000 litros\n",
      "\n"
     ]
    }
   ],
   "source": [
    "def cohete(destino, *minutes, **fuel_reservoirs):\n",
    "    reporteDeMision= f\"\"\"\n",
    "    Destino a {destino}\n",
    "    tiempo de viaje: {sum(minutes)} minutes\n",
    "    combustible total: {sum(fuel_reservoirs.values())}\n",
    "    \"\"\"\n",
    "    for tanque, litros in fuel_reservoirs.items():\n",
    "        reporteDeMision += f\"{tanque} tanque --> {litros} litros\\n\"\n",
    "    return reporteDeMision\n",
    "\n",
    "print(cohete(\"Luna\", 10, 15, 51, interno=30000, externo=20000))"
   ]
  }
 ],
 "metadata": {
  "interpreter": {
   "hash": "e2b8facd3888b358abb43ca71834d98db0af740f44ba0bf5b8cd8e9c6a55d0ef"
  },
  "kernelspec": {
   "display_name": "Python 3.10.2 64-bit (windows store)",
   "language": "python",
   "name": "python3"
  },
  "language_info": {
   "codemirror_mode": {
    "name": "ipython",
    "version": 3
   },
   "file_extension": ".py",
   "mimetype": "text/x-python",
   "name": "python",
   "nbconvert_exporter": "python",
   "pygments_lexer": "ipython3",
   "version": "3.10.2"
  },
  "orig_nbformat": 4
 },
 "nbformat": 4,
 "nbformat_minor": 2
}

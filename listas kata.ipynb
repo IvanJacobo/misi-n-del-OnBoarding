{
 "cells": [
  {
   "cell_type": "markdown",
   "metadata": {},
   "source": [
    "# Ejercicio1: Crear y usar listas de Python"
   ]
  },
  {
   "cell_type": "code",
   "execution_count": 1,
   "metadata": {},
   "outputs": [],
   "source": [
    "planets = ['mercurio', 'venus', 'tierra', 'marte', 'jupiter', 'saturno','urano', 'neptuno']"
   ]
  },
  {
   "cell_type": "code",
   "execution_count": 2,
   "metadata": {},
   "outputs": [
    {
     "name": "stdout",
     "output_type": "stream",
     "text": [
      "el numero de planetas es 9\n",
      "el ultimo planeta es pluton\n"
     ]
    }
   ],
   "source": [
    "planets.append('pluton')\n",
    "numeroPlanetas= len(planets)\n",
    "print('el numero de planetas es', numeroPlanetas)\n",
    "print('el ultimo planeta es', planets[-1])"
   ]
  },
  {
   "cell_type": "markdown",
   "metadata": {},
   "source": [
    "# Ejercicio 2: Trabajando con datos de una lista"
   ]
  },
  {
   "cell_type": "code",
   "execution_count": 3,
   "metadata": {},
   "outputs": [],
   "source": [
    "planetas = ['Mercury', 'Venus', 'Earth', 'Mars', 'Jupiter', 'Saturn', 'Neptune']"
   ]
  },
  {
   "cell_type": "code",
   "execution_count": 8,
   "metadata": {},
   "outputs": [],
   "source": [
    "nuevoPlaneta= input('Escriba el nombre del nuevo planeta')"
   ]
  },
  {
   "cell_type": "code",
   "execution_count": 9,
   "metadata": {},
   "outputs": [],
   "source": [
    "buscarNombre = planetas.index(nuevoPlaneta)"
   ]
  },
  {
   "cell_type": "code",
   "execution_count": 10,
   "metadata": {},
   "outputs": [
    {
     "name": "stdout",
     "output_type": "stream",
     "text": [
      "el planeta mas cercano al sol es Venus\n",
      "['Mercury']\n"
     ]
    }
   ],
   "source": [
    "print('el planeta mas cercano al sol es ' + nuevoPlaneta)\n",
    "print(planetas[0:buscarNombre])"
   ]
  },
  {
   "cell_type": "code",
   "execution_count": 11,
   "metadata": {},
   "outputs": [
    {
     "name": "stdout",
     "output_type": "stream",
     "text": [
      "el planeta mas lejano al sol es Venus\n",
      "Earth\n"
     ]
    }
   ],
   "source": [
    "print('el planeta mas lejano al sol es ' + nuevoPlaneta)\n",
    "print(planetas[buscarNombre + 1])"
   ]
  }
 ],
 "metadata": {
  "interpreter": {
   "hash": "e2b8facd3888b358abb43ca71834d98db0af740f44ba0bf5b8cd8e9c6a55d0ef"
  },
  "kernelspec": {
   "display_name": "Python 3.10.2 64-bit (windows store)",
   "language": "python",
   "name": "python3"
  },
  "language_info": {
   "codemirror_mode": {
    "name": "ipython",
    "version": 3
   },
   "file_extension": ".py",
   "mimetype": "text/x-python",
   "name": "python",
   "nbconvert_exporter": "python",
   "pygments_lexer": "ipython3",
   "version": "3.10.2"
  },
  "orig_nbformat": 4
 },
 "nbformat": 4,
 "nbformat_minor": 2
}

{
 "cells": [
  {
   "cell_type": "markdown",
   "metadata": {},
   "source": [
    "# Ejercicio - Escribir declaraciones if, else, y elif"
   ]
  },
  {
   "cell_type": "code",
   "execution_count": 2,
   "metadata": {},
   "outputs": [
    {
     "name": "stdout",
     "output_type": "stream",
     "text": [
      "Fuera de peligro\n"
     ]
    }
   ],
   "source": [
    "velocidad= 25\n",
    "\n",
    "if velocidad>25:\n",
    "    print(\"Estamos en peligro\");\n",
    "else: print(\"Fuera de peligro\") ;"
   ]
  },
  {
   "cell_type": "code",
   "execution_count": 10,
   "metadata": {},
   "outputs": [
    {
     "name": "stdout",
     "output_type": "stream",
     "text": [
      "No hay peligro\n"
     ]
    }
   ],
   "source": [
    "speed = 19;\n",
    "if speed > 20:\n",
    "    print('Estamos en peligro, se puede observar un rayo de luz en el cielo');\n",
    "elif speed == 20:\n",
    "    print ('Estamos en peligro, se puede observar un rayo de luz en el cielo');\n",
    "else: print('No hay peligro');"
   ]
  },
  {
   "cell_type": "markdown",
   "metadata": {},
   "source": [
    "# Ejercicio: Uso de operadores and y or"
   ]
  },
  {
   "cell_type": "code",
   "execution_count": 25,
   "metadata": {},
   "outputs": [
    {
     "name": "stdout",
     "output_type": "stream",
     "text": [
      "No hay peligro\n"
     ]
    }
   ],
   "source": [
    "tamaño = 5;\n",
    "velocidad = 10;\n",
    "\n",
    "if velocidad >= 20 or tamaño >=25 :\n",
    "    print('Estamos en peligro, un asteroide peligroso viene hacia la tierra');\n",
    "elif velocidad >= 20:\n",
    "    print ('Estamos en peligro, se puede observar un rayo de luz en el cielo');\n",
    "elif tamaño < 25:\n",
    "    print ('No hay peligro');\n",
    "else: print('No hay peligro');"
   ]
  }
 ],
 "metadata": {
  "interpreter": {
   "hash": "e2b8facd3888b358abb43ca71834d98db0af740f44ba0bf5b8cd8e9c6a55d0ef"
  },
  "kernelspec": {
   "display_name": "Python 3.10.2 64-bit (windows store)",
   "language": "python",
   "name": "python3"
  },
  "language_info": {
   "codemirror_mode": {
    "name": "ipython",
    "version": 3
   },
   "file_extension": ".py",
   "mimetype": "text/x-python",
   "name": "python",
   "nbconvert_exporter": "python",
   "pygments_lexer": "ipython3",
   "version": "3.10.2"
  },
  "orig_nbformat": 4
 },
 "nbformat": 4,
 "nbformat_minor": 2
}
